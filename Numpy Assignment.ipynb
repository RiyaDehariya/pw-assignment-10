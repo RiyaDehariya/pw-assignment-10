{
 "cells": [
  {
   "cell_type": "code",
   "execution_count": 2,
   "id": "b7a64a48",
   "metadata": {},
   "outputs": [],
   "source": [
    "import numpy as np"
   ]
  },
  {
   "cell_type": "markdown",
   "id": "b416337a",
   "metadata": {},
   "source": [
    "1. What is a Python library? Why ^o we use Python libraries?\n",
    "\n",
    "A Python library is a collection of pre-written code and functions that extend the capabilities of the Python programming language. These libraries are designed to solve specific problems or provide additional functionality beyond what is available in the core Python language. Python libraries are typically distributed as packages, which can be installed using package managers like pip or conda.\n",
    "\n",
    "We use Python libraries for several reasons:\n",
    "\n",
    "1. **Functionality**: Libraries provide ready-to-use functions and classes to perform specific tasks, saving time and effort in writing code from scratch.\n",
    "\n",
    "2. **Efficiency**: Using pre-written, optimized code from libraries can often lead to more efficient programs compared to writing everything yourself, especially for complex tasks like numerical computation, machine learning, or data analysis.\n",
    "\n",
    "3. **Community Contribution**: Python has a large and active community of developers who contribute to various libraries. Leveraging these libraries allows us to benefit from the collective expertise of the community.\n",
    "\n",
    "4. **Standardization**: Libraries often provide standardized solutions to common problems, promoting best practices and making code more maintainable and readable.\n",
    "\n",
    "5. **Focus on Problem-Solving**: By using libraries, developers can focus more on solving the specific problem at hand rather than reinventing the wheel for common tasks.\n",
    "\n",
    "Overall, Python libraries enhance the versatility and power of the language, making it suitable for a wide range of applications, from web development to scientific computing."
   ]
  },
  {
   "cell_type": "markdown",
   "id": "8846a696",
   "metadata": {},
   "source": [
    "2. What is the difference between Numpy array an^ List?\n",
    "\n",
    "\n",
    "NumPy arrays and Python lists are both used to store collections of data, but they have some key differences:\n",
    "\n",
    "1. **Data Type**: \n",
    "   - NumPy arrays are homogeneous, meaning they can only store elements of the same data type. This allows for more efficient storage and operations on large datasets, especially for numerical computations.\n",
    "   - Python lists can store elements of different data types, making them more flexible but potentially less efficient for numerical computations.\n",
    "\n",
    "2. **Memory Efficiency**:\n",
    "   - NumPy arrays are more memory efficient compared to Python lists, especially for large datasets, because they store data in contiguous memory blocks and use fixed-size data types.\n",
    "   - Python lists are less memory efficient because they store references to objects in memory, which can lead to memory fragmentation and overhead.\n",
    "\n",
    "3. **Performance**:\n",
    "   - NumPy arrays offer faster computation and mathematical operations compared to Python lists, especially for large datasets, due to optimized C-level implementations of array operations.\n",
    "   - Python lists are slower for numerical computations because they are implemented in pure Python and lack the optimizations provided by NumPy.\n",
    "\n",
    "4. **Functionality**:\n",
    "   - NumPy arrays offer a wide range of mathematical functions and operations optimized for array computations, such as element-wise operations, linear algebra, Fourier transforms, and random number generation.\n",
    "   - Python lists provide basic operations like appending, slicing, and iterating, but lack the extensive functionality and optimizations for numerical computations available in NumPy.\n",
    "\n",
    "5. **Syntax**:\n",
    "   - NumPy arrays are created using the `np.array()` function and support array-specific operations and methods.\n",
    "   - Python lists are created using square brackets `[]` and support list-specific operations and methods.\n",
    "\n",
    "In summary, NumPy arrays are specialized data structures designed for efficient numerical computations, while Python lists are general-purpose data structures with more flexibility but lower performance and efficiency for numerical tasks."
   ]
  },
  {
   "cell_type": "markdown",
   "id": "9d87cd51",
   "metadata": {},
   "source": [
    "3. Find the shape, size and dimension of the following array?\n",
    "[[1, 2, 3, 4]\n",
    "[5, 6, 7, 8],\n",
    "[9, 10, 11, 12]]"
   ]
  },
  {
   "cell_type": "code",
   "execution_count": 16,
   "id": "7b86bd84",
   "metadata": {},
   "outputs": [
    {
     "data": {
      "text/plain": [
       "array([[ 1,  2,  3,  4],\n",
       "       [ 5,  6,  7,  8],\n",
       "       [ 9, 10, 11, 12]])"
      ]
     },
     "execution_count": 16,
     "metadata": {},
     "output_type": "execute_result"
    }
   ],
   "source": [
    "arr = np.array([[1, 2, 3, 4], [5, 6, 7, 8], [9, 10, 11, 12]])\n",
    "arr\n"
   ]
  },
  {
   "cell_type": "code",
   "execution_count": 17,
   "id": "d823a160",
   "metadata": {},
   "outputs": [
    {
     "data": {
      "text/plain": [
       "12"
      ]
     },
     "execution_count": 17,
     "metadata": {},
     "output_type": "execute_result"
    }
   ],
   "source": [
    "arr.size"
   ]
  },
  {
   "cell_type": "code",
   "execution_count": 18,
   "id": "3c58ef8e",
   "metadata": {},
   "outputs": [
    {
     "data": {
      "text/plain": [
       "(3, 4)"
      ]
     },
     "execution_count": 18,
     "metadata": {},
     "output_type": "execute_result"
    }
   ],
   "source": [
    "arr.shape"
   ]
  },
  {
   "cell_type": "code",
   "execution_count": 19,
   "id": "26cb004c",
   "metadata": {},
   "outputs": [
    {
     "data": {
      "text/plain": [
       "2"
      ]
     },
     "execution_count": 19,
     "metadata": {},
     "output_type": "execute_result"
    }
   ],
   "source": [
    "arr.ndim"
   ]
  },
  {
   "cell_type": "markdown",
   "id": "c079de8b",
   "metadata": {},
   "source": [
    "4. Write python code to access the first row of the following array?\n",
    "[[1, 2, 3, 4]\n",
    "[5, 6, 7, 8],\n",
    "[9, 10, 11, 12]]"
   ]
  },
  {
   "cell_type": "code",
   "execution_count": 20,
   "id": "4d211016",
   "metadata": {},
   "outputs": [
    {
     "data": {
      "text/plain": [
       "array([[ 1,  2,  3,  4],\n",
       "       [ 5,  6,  7,  8],\n",
       "       [ 9, 10, 11, 12]])"
      ]
     },
     "execution_count": 20,
     "metadata": {},
     "output_type": "execute_result"
    }
   ],
   "source": [
    "arr1  = np.array([[1, 2, 3, 4], [5, 6, 7, 8], [9, 10, 11, 12]])\n",
    "arr1"
   ]
  },
  {
   "cell_type": "code",
   "execution_count": 21,
   "id": "65e45e90",
   "metadata": {},
   "outputs": [
    {
     "data": {
      "text/plain": [
       "array([1, 2, 3, 4])"
      ]
     },
     "execution_count": 21,
     "metadata": {},
     "output_type": "execute_result"
    }
   ],
   "source": [
    "arr1[0]"
   ]
  },
  {
   "cell_type": "markdown",
   "id": "a8a366d3",
   "metadata": {},
   "source": [
    "5. How ^o you access the element at the third row and fourth column from the given numpy array?\n",
    "[[1, 2, 3, 4]\n",
    "[5, 6, 7, 8],\n",
    "[9, 10, 11, 12]]"
   ]
  },
  {
   "cell_type": "code",
   "execution_count": 22,
   "id": "d542fd8f",
   "metadata": {},
   "outputs": [
    {
     "data": {
      "text/plain": [
       "array([[ 1,  2,  3,  4],\n",
       "       [ 5,  6,  7,  8],\n",
       "       [ 9, 10, 11, 12]])"
      ]
     },
     "execution_count": 22,
     "metadata": {},
     "output_type": "execute_result"
    }
   ],
   "source": [
    "arr2 = np.array([[1, 2, 3, 4], [5, 6, 7, 8], [9, 10, 11, 12]])\n",
    "arr2"
   ]
  },
  {
   "cell_type": "code",
   "execution_count": 25,
   "id": "e7dbd14d",
   "metadata": {},
   "outputs": [
    {
     "data": {
      "text/plain": [
       "12"
      ]
     },
     "execution_count": 25,
     "metadata": {},
     "output_type": "execute_result"
    }
   ],
   "source": [
    "arr[2,3]"
   ]
  },
  {
   "cell_type": "markdown",
   "id": "9378d707",
   "metadata": {},
   "source": [
    "6. Write code to extract all odd-indexed elements from the given numpy array?\n",
    "[[1, 2, 3, 4]\n",
    "[5, 6, 7, 8],\n",
    "[9, 10, 11, 12]]"
   ]
  },
  {
   "cell_type": "code",
   "execution_count": 26,
   "id": "bc270951",
   "metadata": {},
   "outputs": [
    {
     "data": {
      "text/plain": [
       "array([[ 1,  2,  3,  4],\n",
       "       [ 5,  6,  7,  8],\n",
       "       [ 9, 10, 11, 12]])"
      ]
     },
     "execution_count": 26,
     "metadata": {},
     "output_type": "execute_result"
    }
   ],
   "source": [
    "arr3 = np.array([[1, 2, 3, 4], [5, 6, 7, 8], [9, 10, 11, 12]])\n",
    "arr3"
   ]
  },
  {
   "cell_type": "code",
   "execution_count": 27,
   "id": "286f1364",
   "metadata": {},
   "outputs": [
    {
     "data": {
      "text/plain": [
       "array([[ 2,  4],\n",
       "       [ 6,  8],\n",
       "       [10, 12]])"
      ]
     },
     "execution_count": 27,
     "metadata": {},
     "output_type": "execute_result"
    }
   ],
   "source": [
    "arr3[:, 1::2]"
   ]
  },
  {
   "cell_type": "markdown",
   "id": "e94374c2",
   "metadata": {},
   "source": [
    "7. How can you generate a random 3x3 matrix with values between 0 and 1?"
   ]
  },
  {
   "cell_type": "code",
   "execution_count": 38,
   "id": "ae8096d8",
   "metadata": {},
   "outputs": [],
   "source": [
    "arr = np.random.rand(3,3)"
   ]
  },
  {
   "cell_type": "code",
   "execution_count": 39,
   "id": "d9e709aa",
   "metadata": {},
   "outputs": [
    {
     "data": {
      "text/plain": [
       "array([[0.93043939, 0.39576103, 0.03117606],\n",
       "       [0.67387428, 0.94688129, 0.65441744],\n",
       "       [0.56502608, 0.3482466 , 0.41992245]])"
      ]
     },
     "execution_count": 39,
     "metadata": {},
     "output_type": "execute_result"
    }
   ],
   "source": [
    "arr"
   ]
  },
  {
   "cell_type": "markdown",
   "id": "159fe1dd",
   "metadata": {},
   "source": [
    "8. Describe the difference between np.random.rand and np.random.randn?"
   ]
  },
  {
   "cell_type": "markdown",
   "id": "d36fce9b",
   "metadata": {},
   "source": [
    "The difference between `np.random.rand` and `np.random.randn` lies in the distribution of the random numbers they generate:\n",
    "\n",
    "1. **`np.random.rand`**:\n",
    "   - This function generates random numbers from a uniform distribution over the interval [0, 1).\n",
    "   - It takes dimensions of the output array as arguments and returns an array of random numbers with those dimensions.\n",
    "   - Each number generated by `np.random.rand` is independent of the others and has an equal probability of being any value between 0 and 1.\n",
    "\n",
    "   Example:\n",
    "   ```python\n",
    "   np.random.rand(3, 3)\n",
    "   ```\n",
    "\n",
    "2. **`np.random.randn`**:\n",
    "   - This function generates random numbers from a standard normal distribution (mean=0, standard deviation=1).\n",
    "   - It takes dimensions of the output array as arguments and returns an array of random numbers with those dimensions.\n",
    "   - The random numbers generated by `np.random.randn` are not uniformly distributed; rather, they follow a bell-shaped curve centered around 0 with the majority of values falling within 1 standard deviation from the mean.\n",
    "\n",
    "   Example:\n",
    "   ```python\n",
    "   np.random.randn(3, 3)\n",
    "   ```\n",
    "\n",
    "In summary, `np.random.rand` generates random numbers from a uniform distribution over [0, 1), while `np.random.randn` generates random numbers from a standard normal distribution with mean 0 and standard deviation 1."
   ]
  },
  {
   "cell_type": "markdown",
   "id": "7608bd87",
   "metadata": {},
   "source": [
    "9. Write co^e to increase the ^imension of the following array?\n",
    "[[1, 2, 3, 4]\n",
    "[5, 6, 7, 8],\n",
    "[9, 10, 11, 12]]"
   ]
  },
  {
   "cell_type": "code",
   "execution_count": 40,
   "id": "f982789d",
   "metadata": {},
   "outputs": [
    {
     "data": {
      "text/plain": [
       "array([[ 1,  2,  3,  4],\n",
       "       [ 5,  6,  7,  8],\n",
       "       [ 9, 10, 11, 12]])"
      ]
     },
     "execution_count": 40,
     "metadata": {},
     "output_type": "execute_result"
    }
   ],
   "source": [
    "arr = np.array([[1, 2, 3, 4], [5, 6, 7, 8], [9, 10, 11, 12]])\n",
    "arr"
   ]
  },
  {
   "cell_type": "code",
   "execution_count": 43,
   "id": "dfacc1f9",
   "metadata": {},
   "outputs": [
    {
     "data": {
      "text/plain": [
       "array([[[ 1,  2,  3,  4]],\n",
       "\n",
       "       [[ 5,  6,  7,  8]],\n",
       "\n",
       "       [[ 9, 10, 11, 12]]])"
      ]
     },
     "execution_count": 43,
     "metadata": {},
     "output_type": "execute_result"
    }
   ],
   "source": [
    "np.expand_dims(arr, axis = 1)"
   ]
  },
  {
   "cell_type": "code",
   "execution_count": 44,
   "id": "35c2bb47",
   "metadata": {},
   "outputs": [
    {
     "data": {
      "text/plain": [
       "array([[[ 1,  2,  3,  4],\n",
       "        [ 5,  6,  7,  8],\n",
       "        [ 9, 10, 11, 12]]])"
      ]
     },
     "execution_count": 44,
     "metadata": {},
     "output_type": "execute_result"
    }
   ],
   "source": [
    "np.expand_dims(arr, axis = 0)"
   ]
  },
  {
   "cell_type": "markdown",
   "id": "6f5ed330",
   "metadata": {},
   "source": [
    "10. How to transpose the following array in NumPy?\n",
    "[[1, 2, 3, 4]\n",
    "[5, 6, 7, 8],\n",
    "[9, 10, 11, 12]]"
   ]
  },
  {
   "cell_type": "code",
   "execution_count": 45,
   "id": "1a191741",
   "metadata": {},
   "outputs": [
    {
     "data": {
      "text/plain": [
       "array([[ 1,  2,  3,  4],\n",
       "       [ 5,  6,  7,  8],\n",
       "       [ 9, 10, 11, 12]])"
      ]
     },
     "execution_count": 45,
     "metadata": {},
     "output_type": "execute_result"
    }
   ],
   "source": [
    "arr = np.array([[1, 2, 3, 4], [5, 6, 7, 8], [9, 10, 11, 12]])\n",
    "arr"
   ]
  },
  {
   "cell_type": "code",
   "execution_count": 46,
   "id": "603fbe9c",
   "metadata": {},
   "outputs": [
    {
     "data": {
      "text/plain": [
       "array([[ 1,  5,  9],\n",
       "       [ 2,  6, 10],\n",
       "       [ 3,  7, 11],\n",
       "       [ 4,  8, 12]])"
      ]
     },
     "execution_count": 46,
     "metadata": {},
     "output_type": "execute_result"
    }
   ],
   "source": [
    "arr.T"
   ]
  },
  {
   "cell_type": "markdown",
   "id": "3968dfb5",
   "metadata": {},
   "source": [
    "11. Consider the following matrix:\n",
    "Matrix A2 [[1, 2, 3, 4] [5, 6, 7, 8],[9, 10, 11, 12]]\n",
    "Matrix B2 [[1, 2, 3, 4] [5, 6, 7, 8],[9, 10, 11, 12]]\n",
    "\n",
    "\n",
    "Perform the following operation using Python1\n",
    "1) Index wise multiplication\n",
    "2) Matix multiplication\n",
    "3) Add both the matics\n",
    "4) Subtact matix B from A\n",
    "5) Divide Matix B by A"
   ]
  },
  {
   "cell_type": "code",
   "execution_count": 3,
   "id": "2f4a6591",
   "metadata": {},
   "outputs": [
    {
     "data": {
      "text/plain": [
       "array([[ 1,  2,  3,  4],\n",
       "       [ 5,  6,  7,  8],\n",
       "       [ 9, 10, 11, 12]])"
      ]
     },
     "execution_count": 3,
     "metadata": {},
     "output_type": "execute_result"
    }
   ],
   "source": [
    "matrix1 = np.array([[1, 2, 3, 4], [5, 6, 7, 8], [9, 10, 11, 12]])\n",
    "matrix2 = np.array([[1, 2, 3, 4], [5, 6, 7, 8], [9, 10, 11, 12]])\n",
    "matrix1"
   ]
  },
  {
   "cell_type": "code",
   "execution_count": 12,
   "id": "45b4d1e1",
   "metadata": {},
   "outputs": [
    {
     "data": {
      "text/plain": [
       "array([[ 1,  2,  3,  4],\n",
       "       [ 5,  6,  7,  8],\n",
       "       [ 9, 10, 11, 12]])"
      ]
     },
     "execution_count": 12,
     "metadata": {},
     "output_type": "execute_result"
    }
   ],
   "source": [
    "matrix2"
   ]
  },
  {
   "cell_type": "code",
   "execution_count": 16,
   "id": "4f558cfe",
   "metadata": {},
   "outputs": [
    {
     "name": "stdout",
     "output_type": "stream",
     "text": [
      "Index wise multiplication of matrix is : \n"
     ]
    },
    {
     "data": {
      "text/plain": [
       "array([[  1,   4,   9,  16],\n",
       "       [ 25,  36,  49,  64],\n",
       "       [ 81, 100, 121, 144]])"
      ]
     },
     "execution_count": 16,
     "metadata": {},
     "output_type": "execute_result"
    }
   ],
   "source": [
    "print(\"Index wise multiplication of matrix is : \")\n",
    "matrix1 * matrix2"
   ]
  },
  {
   "cell_type": "code",
   "execution_count": 21,
   "id": "5f946bbf",
   "metadata": {},
   "outputs": [
    {
     "data": {
      "text/plain": [
       "array([[ 2,  4,  6,  8],\n",
       "       [10, 12, 14, 16],\n",
       "       [18, 20, 22, 24]])"
      ]
     },
     "execution_count": 21,
     "metadata": {},
     "output_type": "execute_result"
    }
   ],
   "source": [
    "matrix1 + matrix2"
   ]
  },
  {
   "cell_type": "code",
   "execution_count": 22,
   "id": "4169e762",
   "metadata": {},
   "outputs": [
    {
     "data": {
      "text/plain": [
       "array([[0, 0, 0, 0],\n",
       "       [0, 0, 0, 0],\n",
       "       [0, 0, 0, 0]])"
      ]
     },
     "execution_count": 22,
     "metadata": {},
     "output_type": "execute_result"
    }
   ],
   "source": [
    "matrix2 - matrix1"
   ]
  },
  {
   "cell_type": "code",
   "execution_count": 23,
   "id": "411fd11c",
   "metadata": {},
   "outputs": [
    {
     "data": {
      "text/plain": [
       "array([[1., 1., 1., 1.],\n",
       "       [1., 1., 1., 1.],\n",
       "       [1., 1., 1., 1.]])"
      ]
     },
     "execution_count": 23,
     "metadata": {},
     "output_type": "execute_result"
    }
   ],
   "source": [
    "matrix2/matrix1"
   ]
  },
  {
   "cell_type": "markdown",
   "id": "519a17ed",
   "metadata": {},
   "source": [
    "12. Which function in Numpy can be used to swap the byte order of an array?"
   ]
  },
  {
   "cell_type": "markdown",
   "id": "9e5fbea7",
   "metadata": {},
   "source": [
    "In NumPy, the function used to swap the byte order of an array is `byteswap()`. This function swaps the byte order of the elements in the array, effectively changing the endianness.\n"
   ]
  },
  {
   "cell_type": "code",
   "execution_count": 24,
   "id": "0f17487e",
   "metadata": {},
   "outputs": [
    {
     "name": "stdout",
     "output_type": "stream",
     "text": [
      "Original array: [1 2 3 4]\n",
      "Swapped array: [16777216 33554432 50331648 67108864]\n"
     ]
    }
   ],
   "source": [
    "import numpy as np\n",
    "arr = np.array([1, 2, 3, 4], dtype=np.int32)\n",
    "\n",
    "# Swap byte order\n",
    "swapped_arr = arr.byteswap()\n",
    "\n",
    "print(\"Original array:\", arr)\n",
    "print(\"Swapped array:\", swapped_arr)"
   ]
  },
  {
   "cell_type": "markdown",
   "id": "f3909561",
   "metadata": {},
   "source": [
    "13. What is the significance of the np.linalg.inv function?"
   ]
  },
  {
   "cell_type": "markdown",
   "id": "ad42ccbf",
   "metadata": {},
   "source": [
    "The `np.linalg.inv` function in NumPy is used to compute the inverse of a square matrix. The significance of this function lies in various areas of linear algebra and numerical computation. Here are some key points regarding its significance:\n",
    "\n",
    "1. Solving Linear Systems: One of the primary applications of matrix inversion is solving systems of linear equations. Given a system of equations in the form of ( Ax = b \\, where ( A ) is a coefficient matrix, ( x ) is the vector of variables to be solved for, and ( b ) is the constant vector, the solution can be found using matrix inversion: ( x = A^{-1}b ).\n",
    "\n",
    "2. Matrix Equation Solutions: Matrix inversion is essential for solving matrix equations of the form ( AX = B ), where ( A ) and ( B ) are matrices, and ( X ) is the matrix of unknowns. The solution can be expressed as ( X = A^{-1}B ).\n",
    "\n",
    "3. Eigenvalue and Eigenvector Calculations: In some cases, matrix inversion is involved in computing eigenvalues and eigenvectors. For example, the inverse of ( A - lambda I ), where ( A ) is a matrix, ( lambda ) is an eigenvalue, and ( I ) is the identity matrix, is often used to solve for eigenvectors.\n",
    "\n",
    "4. Regularization: In numerical computations, especially in regression and optimization problems, regularization techniques are employed to stabilize solutions and prevent overfitting. Matrix inversion is sometimes used in regularization methods like ridge regression and Tikhonov regularization.\n",
    "\n",
    "5. Pseudo-Inverse: For non-square matrices or matrices that are not invertible, the pseudo-inverse is often used. The pseudo-inverse is closely related to matrix inversion and is computed using techniques such as Singular Value Decomposition (SVD). NumPy's `np.linalg.pinv` function computes the pseudo-inverse.\n",
    "\n",
    "6. Error Checking: Checking whether a matrix is invertible (i.e., non-singular) is often done by attempting to compute its inverse. If the determinant of the matrix is zero, it is singular and cannot be inverted."
   ]
  },
  {
   "cell_type": "markdown",
   "id": "403a898a",
   "metadata": {},
   "source": [
    "14. What does the np.reshape function do, and how is it used ?"
   ]
  },
  {
   "cell_type": "markdown",
   "id": "3688c009",
   "metadata": {},
   "source": [
    "The `np.reshape` function in NumPy is used to change the shape (dimensions) of an array without changing its data. It allows you to reorganize the elements of an array to fit a new shape. The function returns a new array with the specified shape, and if the total number of elements in the original array does not match the number of elements in the new shape, a ValueError is raised.\n",
    "\n",
    "In the below example, the `np.reshape` function is used to reshape a 1D array `arr1d` into a 2D array `arr2d` with 2 rows and 3 columns.\n"
   ]
  },
  {
   "cell_type": "code",
   "execution_count": 25,
   "id": "6cf4d6e2",
   "metadata": {},
   "outputs": [
    {
     "name": "stdout",
     "output_type": "stream",
     "text": [
      "Original array (1D):\n",
      "[1 2 3 4 5 6]\n",
      "\n",
      "Reshaped array (2D):\n",
      "[[1 2 3]\n",
      " [4 5 6]]\n"
     ]
    }
   ],
   "source": [
    "import numpy as np\n",
    "\n",
    "# Create a 1D array\n",
    "arr1d = np.array([1, 2, 3, 4, 5, 6])\n",
    "\n",
    "# Reshape the array to a 2D array with 2 rows and 3 columns\n",
    "arr2d = np.reshape(arr1d, (2, 3))\n",
    "\n",
    "print(\"Original array (1D):\")\n",
    "print(arr1d)\n",
    "print(\"\\nReshaped array (2D):\")\n",
    "print(arr2d)"
   ]
  },
  {
   "cell_type": "markdown",
   "id": "dfe819e0",
   "metadata": {},
   "source": [
    "15. What is broadcasting in Numpy?"
   ]
  },
  {
   "cell_type": "markdown",
   "id": "aaef7355",
   "metadata": {},
   "source": [
    "Broadcasting in NumPy is a powerful mechanism that allows arrays of different shapes to be combined together for arithmetic operations. When performing element-wise operations (such as addition, subtraction, multiplication, etc.) on arrays with different shapes, NumPy automatically broadcasts the arrays to have compatible shapes, making the operation possible without the need for explicit loop operations.\n",
    "\n",
    "Here are the key aspects of broadcasting in NumPy:\n",
    "\n",
    "1. Implicit Expansion: Broadcasting expands smaller arrays to match the shape of larger arrays, making them compatible for element-wise operations. This expansion is done implicitly without making copies of the data, which improves performance and reduces memory usage.\n",
    "\n",
    "2. Rules of Broadcasting: NumPy follows a set of rules to determine how arrays with different shapes are broadcasted. The dimensions of the arrays are compared element-wise, starting from the trailing dimensions and working backward. The dimensions are compatible if they are equal or one of them is 1. If the arrays have different numbers of dimensions, the shape of the array with fewer dimensions is padded with ones on its left side.\n",
    "\n",
    "3. Broadcasting Example: For example, if you have a 2D array of shape `(3, 2)` and a 1D array of shape `(2,)`, NumPy will broadcast the 1D array along the rows to match the shape of the 2D array, effectively duplicating its values along the rows.\n",
    "\n",
    "4. Performance Benefits: Broadcasting allows for concise and efficient code, as it eliminates the need for explicit looping over array elements. It leverages NumPy's optimized C and Fortran routines to perform operations on large arrays efficiently.\n",
    "\n",
    "Broadcasting is a fundamental concept in NumPy and is widely used in array manipulation and arithmetic operations. Understanding broadcasting helps in writing more expressive and efficient code when working with multidimensional arrays in NumPy."
   ]
  },
  {
   "cell_type": "code",
   "execution_count": null,
   "id": "ccbd09a2",
   "metadata": {},
   "outputs": [],
   "source": []
  }
 ],
 "metadata": {
  "kernelspec": {
   "display_name": "Python 3 (ipykernel)",
   "language": "python",
   "name": "python3"
  },
  "language_info": {
   "codemirror_mode": {
    "name": "ipython",
    "version": 3
   },
   "file_extension": ".py",
   "mimetype": "text/x-python",
   "name": "python",
   "nbconvert_exporter": "python",
   "pygments_lexer": "ipython3",
   "version": "3.9.13"
  }
 },
 "nbformat": 4,
 "nbformat_minor": 5
}
